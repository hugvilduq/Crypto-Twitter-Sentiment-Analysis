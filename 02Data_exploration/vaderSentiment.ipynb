{
 "cells": [
  {
   "cell_type": "markdown",
   "id": "2cf18537-869e-47d2-ac86-cfba80c1f50f",
   "metadata": {},
   "source": [
    "# vaderSentiment"
   ]
  },
  {
   "cell_type": "markdown",
   "id": "7c79fe29-2994-404c-b90c-021d716da7be",
   "metadata": {},
   "source": [
    "## Imports"
   ]
  },
  {
   "cell_type": "code",
   "execution_count": 1,
   "id": "88794a35-1df2-4294-b15b-181bf4e38cb5",
   "metadata": {},
   "outputs": [],
   "source": [
    "import pandas as pd\n",
    "\n",
    "from sqlalchemy import create_engine\n",
    "\n",
    "from vaderSentiment.vaderSentiment import SentimentIntensityAnalyzer"
   ]
  },
  {
   "cell_type": "markdown",
   "id": "193d2418-3850-4046-8f05-a7dac127ffde",
   "metadata": {},
   "source": [
    "## Load data"
   ]
  },
  {
   "cell_type": "code",
   "execution_count": 107,
   "id": "6091315c-95e3-4018-a971-933dd202a4bf",
   "metadata": {},
   "outputs": [],
   "source": [
    "en = create_engine('mysql+mysqlconnector://duinmat:$Mo/qdGSnX$MEi@oege.ie.hva.nl/zduinmat')"
   ]
  },
  {
   "cell_type": "code",
   "execution_count": 112,
   "id": "c4b5a242-febc-4dc0-be74-277810d7a281",
   "metadata": {},
   "outputs": [],
   "source": [
    "dbConnection = en.connect()"
   ]
  },
  {
   "cell_type": "code",
   "execution_count": 113,
   "id": "89453d04-ce3e-4aa0-bddb-2e205f76001a",
   "metadata": {},
   "outputs": [],
   "source": [
    "df = pd.read_sql(\"select * from Tweets_unedited\", dbConnection)"
   ]
  },
  {
   "cell_type": "code",
   "execution_count": null,
   "id": "a8e4784a-7ae1-4ba9-bbfd-bd56b3754227",
   "metadata": {},
   "outputs": [],
   "source": [
    "#df.info()"
   ]
  },
  {
   "cell_type": "markdown",
   "id": "4108cbaa-8e91-442b-a6b9-0dcd3cf4c2f6",
   "metadata": {},
   "source": [
    "## Sentiment anylsis"
   ]
  },
  {
   "cell_type": "markdown",
   "id": "3d953682-fa10-4a3f-aabd-910e93099839",
   "metadata": {},
   "source": [
    "Label: 1 - pos , 0 - neu , -1 - neg , 3 - error"
   ]
  },
  {
   "cell_type": "code",
   "execution_count": 116,
   "id": "e2f702e9-b65a-40e8-90d5-913bb5996a98",
   "metadata": {},
   "outputs": [],
   "source": [
    "analyzer = SentimentIntensityAnalyzer()"
   ]
  },
  {
   "cell_type": "code",
   "execution_count": 117,
   "id": "57442744-d549-47ac-8658-41b8790af94f",
   "metadata": {},
   "outputs": [],
   "source": [
    "sentiment = []"
   ]
  },
  {
   "cell_type": "code",
   "execution_count": 118,
   "id": "8fb5f6d2-c54f-4236-93e3-8849bf292519",
   "metadata": {},
   "outputs": [
    {
     "name": "stdout",
     "output_type": "stream",
     "text": [
      "Errors:  0\n"
     ]
    }
   ],
   "source": [
    "error = 0\n",
    "for idx,row in enumerate(df.iterrows()):\n",
    "    try:\n",
    "        vs = analyzer.polarity_scores(row[1][\"content\"])\n",
    "        \n",
    "        if vs[\"compound\"] >= 0.05:\n",
    "            sentiment.append((idx,1,\"pos\"))\n",
    "        elif vs[\"compound\"] > -0.05 and vs[\"compound\"] < 0.05:\n",
    "            sentiment.append((idx,0,\"neu\"))\n",
    "        elif vs[\"compound\"] <= -0.05:\n",
    "            sentiment.append((idx,-1,\"neg\"))\n",
    "        else:\n",
    "            sentiment.append((idx,3,\"error\"))\n",
    "    except Exception as e:\n",
    "        sentiment.append((idx,3,\"error\"))\n",
    "        error += 1\n",
    "        print(\"*\"*50)\n",
    "        print(\"Index:\" , idx)\n",
    "        print(\"Error: \", e)\n",
    "        print(\"Contend\", row[1][\"content\"])\n",
    "        print(\"*\"*50)\n",
    "print(\"Errors: \" ,error)"
   ]
  },
  {
   "cell_type": "code",
   "execution_count": 119,
   "id": "850eb46a-b47e-4d9c-88ad-aa9ef6345214",
   "metadata": {},
   "outputs": [],
   "source": [
    "df_sentiment = pd.DataFrame(sentiment, columns=[\"Index\",\"Sentiment_number\",\"Sentiment_explain\"])"
   ]
  },
  {
   "cell_type": "code",
   "execution_count": 120,
   "id": "10e56fbb-5b9e-4c6b-9458-aba573f68ff2",
   "metadata": {},
   "outputs": [],
   "source": [
    "df[\"vaderSentiment_number\"] = df_sentiment[\"Sentiment_number\"]\n",
    "df[\"vaderSentiment_explain\"] = df_sentiment[\"Sentiment_explain\"]"
   ]
  },
  {
   "cell_type": "markdown",
   "id": "af5b323f-42f7-44f6-8e1c-b3d090c516e2",
   "metadata": {},
   "source": [
    "## Save data in MySQL Database"
   ]
  },
  {
   "cell_type": "code",
   "execution_count": 24,
   "id": "61ebda38-2c41-44f8-b3a0-784da31ea702",
   "metadata": {},
   "outputs": [],
   "source": [
    "en = create_engine('mysql+mysqlconnector://duinmat:$Mo/qdGSnX$MEi@oege.ie.hva.nl/zduinmat')"
   ]
  },
  {
   "cell_type": "code",
   "execution_count": 123,
   "id": "9608abf3-2498-442f-992f-62ff180f9bdd",
   "metadata": {},
   "outputs": [],
   "source": [
    "df.to_sql(\"Tweets_unedited_with_vaderSentiment\",con = en,if_exists='replace',chunksize=10000)"
   ]
  }
 ],
 "metadata": {
  "kernelspec": {
   "display_name": "Python 3.8.2 64-bit ('py38': conda)",
   "language": "python",
   "name": "python382jvsc74a57bd064bcadabe4cd61f3d117ba0da9d14bf2f8e35582ff79e821f2e71056f2723d1e"
  },
  "language_info": {
   "codemirror_mode": {
    "name": "ipython",
    "version": 3
   },
   "file_extension": ".py",
   "mimetype": "text/x-python",
   "name": "python",
   "nbconvert_exporter": "python",
   "pygments_lexer": "ipython3",
   "version": "3.8.2"
  }
 },
 "nbformat": 4,
 "nbformat_minor": 5
}
