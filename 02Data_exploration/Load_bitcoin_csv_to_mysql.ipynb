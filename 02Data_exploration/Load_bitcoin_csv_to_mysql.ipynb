{
 "cells": [
  {
   "cell_type": "markdown",
   "id": "c1ca4437-bef2-43ca-83eb-930956f9e73f",
   "metadata": {},
   "source": [
    "# Load Bitcoin values from csv"
   ]
  },
  {
   "cell_type": "markdown",
   "id": "21ca81da-d453-4ecd-990e-5fb2e12fef33",
   "metadata": {},
   "source": [
    "## Imports"
   ]
  },
  {
   "cell_type": "code",
   "execution_count": 1,
   "id": "eac95e44",
   "metadata": {},
   "outputs": [],
   "source": [
    "import pandas as pd\n",
    "\n",
    "from sqlalchemy import create_engine"
   ]
  },
  {
   "cell_type": "markdown",
   "id": "65ce3d1e-e1d5-4630-b74a-cbb6faed380e",
   "metadata": {},
   "source": [
    "## Read csv"
   ]
  },
  {
   "cell_type": "code",
   "execution_count": 2,
   "id": "41144846",
   "metadata": {},
   "outputs": [
    {
     "name": "stderr",
     "output_type": "stream",
     "text": [
      "/opt/anaconda3/envs/py38/lib/python3.8/site-packages/IPython/core/interactiveshell.py:3169: DtypeWarning: Columns (0,3,4,5,6,7,8,9) have mixed types.Specify dtype option on import or set low_memory=False.\n",
      "  has_raised = await self.run_ast_nodes(code_ast.body, cell_name,\n"
     ]
    }
   ],
   "source": [
    "df = pd.read_csv(\"Binance_BTCUSDT_minute.csv\",sep=\",\")"
   ]
  },
  {
   "cell_type": "code",
   "execution_count": 4,
   "id": "bf4b7af8",
   "metadata": {},
   "outputs": [
    {
     "data": {
      "text/html": [
       "<div>\n",
       "<style scoped>\n",
       "    .dataframe tbody tr th:only-of-type {\n",
       "        vertical-align: middle;\n",
       "    }\n",
       "\n",
       "    .dataframe tbody tr th {\n",
       "        vertical-align: top;\n",
       "    }\n",
       "\n",
       "    .dataframe thead th {\n",
       "        text-align: right;\n",
       "    }\n",
       "</style>\n",
       "<table border=\"1\" class=\"dataframe\">\n",
       "  <thead>\n",
       "    <tr style=\"text-align: right;\">\n",
       "      <th></th>\n",
       "      <th></th>\n",
       "      <th></th>\n",
       "      <th></th>\n",
       "      <th></th>\n",
       "      <th></th>\n",
       "      <th></th>\n",
       "      <th></th>\n",
       "      <th></th>\n",
       "      <th>https://www.CryptoDataDownload.com</th>\n",
       "    </tr>\n",
       "  </thead>\n",
       "  <tbody>\n",
       "    <tr>\n",
       "      <th>unix</th>\n",
       "      <th>date</th>\n",
       "      <th>symbol</th>\n",
       "      <th>open</th>\n",
       "      <th>high</th>\n",
       "      <th>low</th>\n",
       "      <th>close</th>\n",
       "      <th>Volume BTC</th>\n",
       "      <th>Volume USDT</th>\n",
       "      <td>tradecount</td>\n",
       "    </tr>\n",
       "    <tr>\n",
       "      <th>1632274500000</th>\n",
       "      <th>2021-09-22 01:35:00</th>\n",
       "      <th>BTC/USDT</th>\n",
       "      <th>42040.78000000</th>\n",
       "      <th>42040.78000000</th>\n",
       "      <th>41979.41000000</th>\n",
       "      <th>41994.64000000</th>\n",
       "      <th>27.74585000</th>\n",
       "      <th>1165381.53575260</th>\n",
       "      <td>369</td>\n",
       "    </tr>\n",
       "    <tr>\n",
       "      <th>1632274440000</th>\n",
       "      <th>2021-09-22 01:34:00</th>\n",
       "      <th>BTC/USDT</th>\n",
       "      <th>42002.19000000</th>\n",
       "      <th>42040.78000000</th>\n",
       "      <th>41959.68000000</th>\n",
       "      <th>42040.77000000</th>\n",
       "      <th>36.66869000</th>\n",
       "      <th>1539748.30687450</th>\n",
       "      <td>746</td>\n",
       "    </tr>\n",
       "    <tr>\n",
       "      <th>1632274380000</th>\n",
       "      <th>2021-09-22 01:33:00</th>\n",
       "      <th>BTC/USDT</th>\n",
       "      <th>41975.75000000</th>\n",
       "      <th>42065.60000000</th>\n",
       "      <th>41939.12000000</th>\n",
       "      <th>42002.19000000</th>\n",
       "      <th>49.13863000</th>\n",
       "      <th>2063963.09308290</th>\n",
       "      <td>1032</td>\n",
       "    </tr>\n",
       "    <tr>\n",
       "      <th>1632274320000</th>\n",
       "      <th>2021-09-22 01:32:00</th>\n",
       "      <th>BTC/USDT</th>\n",
       "      <th>41949.35000000</th>\n",
       "      <th>42008.23000000</th>\n",
       "      <th>41936.05000000</th>\n",
       "      <th>41975.74000000</th>\n",
       "      <th>49.22783000</th>\n",
       "      <th>2065699.71198440</th>\n",
       "      <td>779</td>\n",
       "    </tr>\n",
       "  </tbody>\n",
       "</table>\n",
       "</div>"
      ],
      "text/plain": [
       "                                                                                                                                    https://www.CryptoDataDownload.com\n",
       "unix          date                symbol   open           high           low            close          Volume BTC  Volume USDT                              tradecount\n",
       "1632274500000 2021-09-22 01:35:00 BTC/USDT 42040.78000000 42040.78000000 41979.41000000 41994.64000000 27.74585000 1165381.53575260                                369\n",
       "1632274440000 2021-09-22 01:34:00 BTC/USDT 42002.19000000 42040.78000000 41959.68000000 42040.77000000 36.66869000 1539748.30687450                                746\n",
       "1632274380000 2021-09-22 01:33:00 BTC/USDT 41975.75000000 42065.60000000 41939.12000000 42002.19000000 49.13863000 2063963.09308290                               1032\n",
       "1632274320000 2021-09-22 01:32:00 BTC/USDT 41949.35000000 42008.23000000 41936.05000000 41975.74000000 49.22783000 2065699.71198440                                779"
      ]
     },
     "execution_count": 4,
     "metadata": {},
     "output_type": "execute_result"
    }
   ],
   "source": [
    "df.head()"
   ]
  },
  {
   "cell_type": "markdown",
   "id": "66591511-0004-4c36-8926-7e9637c427d9",
   "metadata": {},
   "source": [
    "## Create df"
   ]
  },
  {
   "cell_type": "code",
   "execution_count": 5,
   "id": "a3a25428",
   "metadata": {},
   "outputs": [],
   "source": [
    "first = True\n",
    "values = []\n",
    "for i, j in df.iterrows():\n",
    "    if first == True:\n",
    "        first = False\n",
    "    else:\n",
    "        values.append(i)"
   ]
  },
  {
   "cell_type": "code",
   "execution_count": 9,
   "id": "97d393b0",
   "metadata": {},
   "outputs": [],
   "source": [
    "columns = ['unix', 'date', 'symbol', 'open', 'high', 'low', 'close', 'Volume BTC', 'Volume USDT']"
   ]
  },
  {
   "cell_type": "code",
   "execution_count": 10,
   "id": "a52a4d3d",
   "metadata": {},
   "outputs": [],
   "source": [
    "df_values = pd.DataFrame(values, columns = columns)"
   ]
  },
  {
   "cell_type": "code",
   "execution_count": 11,
   "id": "afd32206",
   "metadata": {},
   "outputs": [
    {
     "name": "stdout",
     "output_type": "stream",
     "text": [
      "<class 'pandas.core.frame.DataFrame'>\n",
      "RangeIndex: 1066530 entries, 0 to 1066529\n",
      "Data columns (total 9 columns):\n",
      " #   Column       Non-Null Count    Dtype \n",
      "---  ------       --------------    ----- \n",
      " 0   unix         1066530 non-null  object\n",
      " 1   date         1066530 non-null  object\n",
      " 2   symbol       1066530 non-null  object\n",
      " 3   open         1066530 non-null  object\n",
      " 4   high         1066530 non-null  object\n",
      " 5   low          1066530 non-null  object\n",
      " 6   close        1066530 non-null  object\n",
      " 7   Volume BTC   1066530 non-null  object\n",
      " 8   Volume USDT  1066530 non-null  object\n",
      "dtypes: object(9)\n",
      "memory usage: 73.2+ MB\n"
     ]
    }
   ],
   "source": [
    "df_values.info()"
   ]
  },
  {
   "cell_type": "code",
   "execution_count": 13,
   "id": "9c258115",
   "metadata": {},
   "outputs": [
    {
     "data": {
      "text/html": [
       "<div>\n",
       "<style scoped>\n",
       "    .dataframe tbody tr th:only-of-type {\n",
       "        vertical-align: middle;\n",
       "    }\n",
       "\n",
       "    .dataframe tbody tr th {\n",
       "        vertical-align: top;\n",
       "    }\n",
       "\n",
       "    .dataframe thead th {\n",
       "        text-align: right;\n",
       "    }\n",
       "</style>\n",
       "<table border=\"1\" class=\"dataframe\">\n",
       "  <thead>\n",
       "    <tr style=\"text-align: right;\">\n",
       "      <th></th>\n",
       "      <th>unix</th>\n",
       "      <th>date</th>\n",
       "      <th>symbol</th>\n",
       "      <th>open</th>\n",
       "      <th>high</th>\n",
       "      <th>low</th>\n",
       "      <th>close</th>\n",
       "      <th>Volume BTC</th>\n",
       "      <th>Volume USDT</th>\n",
       "    </tr>\n",
       "  </thead>\n",
       "  <tbody>\n",
       "    <tr>\n",
       "      <th>0</th>\n",
       "      <td>1632274500000</td>\n",
       "      <td>2021-09-22 01:35:00</td>\n",
       "      <td>BTC/USDT</td>\n",
       "      <td>42040.78</td>\n",
       "      <td>42040.78</td>\n",
       "      <td>41979.41</td>\n",
       "      <td>41994.64</td>\n",
       "      <td>27.74585</td>\n",
       "      <td>1165381.5357526</td>\n",
       "    </tr>\n",
       "    <tr>\n",
       "      <th>1</th>\n",
       "      <td>1632274440000</td>\n",
       "      <td>2021-09-22 01:34:00</td>\n",
       "      <td>BTC/USDT</td>\n",
       "      <td>42002.19</td>\n",
       "      <td>42040.78</td>\n",
       "      <td>41959.68</td>\n",
       "      <td>42040.77</td>\n",
       "      <td>36.66869</td>\n",
       "      <td>1539748.3068745</td>\n",
       "    </tr>\n",
       "  </tbody>\n",
       "</table>\n",
       "</div>"
      ],
      "text/plain": [
       "            unix                 date    symbol      open      high       low  \\\n",
       "0  1632274500000  2021-09-22 01:35:00  BTC/USDT  42040.78  42040.78  41979.41   \n",
       "1  1632274440000  2021-09-22 01:34:00  BTC/USDT  42002.19  42040.78  41959.68   \n",
       "\n",
       "      close Volume BTC      Volume USDT  \n",
       "0  41994.64   27.74585  1165381.5357526  \n",
       "1  42040.77   36.66869  1539748.3068745  "
      ]
     },
     "execution_count": 13,
     "metadata": {},
     "output_type": "execute_result"
    }
   ],
   "source": [
    "df_values.head(2)"
   ]
  },
  {
   "cell_type": "code",
   "execution_count": 14,
   "id": "c5b22288",
   "metadata": {},
   "outputs": [],
   "source": [
    "df_values.open  = df_values.open.astype(\"float\")\n",
    "df_values.high  = df_values.high.astype(\"float\")\n",
    "df_values.low   = df_values.low.astype(\"float\")\n",
    "df_values.close  = df_values.close.astype(\"float\")\n",
    "df_values[\"Volume BTC\"]   = df_values[\"Volume BTC\"].astype(\"float\")\n",
    "df_values[\"Volume USDT\"]  = df_values[\"Volume USDT\"].astype(\"float\")\n",
    "df_values[\"date\"] = pd.to_datetime(df_values[\"date\"])"
   ]
  },
  {
   "cell_type": "code",
   "execution_count": 15,
   "id": "753a8267",
   "metadata": {},
   "outputs": [],
   "source": [
    "df_values = df_values.rename(columns={\"Volume BTC\": \"volume_BTC\", \"Volume USDT\": \"volume_USDT\"})"
   ]
  },
  {
   "cell_type": "markdown",
   "id": "4cf8237c-a877-4faa-9564-b0e3f973b06b",
   "metadata": {},
   "source": [
    "## Df to MySQL"
   ]
  },
  {
   "cell_type": "code",
   "execution_count": 20,
   "id": "b872ca58-e787-4590-8e96-ea55112f4be0",
   "metadata": {},
   "outputs": [],
   "source": [
    "en = create_engine('mysql+mysqlconnector://duinmat:$Mo/qdGSnX$MEi@oege.ie.hva.nl/zduinmat')"
   ]
  },
  {
   "cell_type": "code",
   "execution_count": null,
   "id": "ada9c459-e042-4f65-8ba3-d93fd75bd118",
   "metadata": {},
   "outputs": [],
   "source": [
    "df_values.to_sql(\"Bitcoin_values\",con = en,if_exists='replace',chunksize=100000)"
   ]
  }
 ],
 "metadata": {
  "kernelspec": {
   "display_name": "Python 3.8.2 64-bit ('py38': conda)",
   "language": "python",
   "name": "python382jvsc74a57bd064bcadabe4cd61f3d117ba0da9d14bf2f8e35582ff79e821f2e71056f2723d1e"
  },
  "language_info": {
   "codemirror_mode": {
    "name": "ipython",
    "version": 3
   },
   "file_extension": ".py",
   "mimetype": "text/x-python",
   "name": "python",
   "nbconvert_exporter": "python",
   "pygments_lexer": "ipython3",
   "version": "3.8.2"
  }
 },
 "nbformat": 4,
 "nbformat_minor": 5
}