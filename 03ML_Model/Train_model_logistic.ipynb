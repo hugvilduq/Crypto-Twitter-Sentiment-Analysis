{
 "cells": [
  {
   "cell_type": "markdown",
   "id": "4c16098f-435c-478c-8d43-c0fba1bde2bd",
   "metadata": {},
   "source": [
    "## Data split"
   ]
  },
  {
   "cell_type": "code",
   "execution_count": 1,
   "id": "62ddca2a-0da0-4e41-bcf0-67e2ad38420a",
   "metadata": {},
   "outputs": [],
   "source": [
    "import pickle\n",
    "\n",
    "import json \n",
    "\n",
    "from sqlalchemy import create_engine\n",
    "\n",
    "import pandas as pd\n",
    "\n",
    "import numpy as np\n",
    "\n",
    "import matplotlib.pyplot as plt\n",
    "\n",
    "from sklearn.feature_extraction.text import TfidfVectorizer, ENGLISH_STOP_WORDS \n",
    "from sklearn.model_selection import train_test_split\n",
    "from sklearn.metrics import accuracy_score\n",
    "from sklearn.metrics import confusion_matrix\n",
    "from sklearn.metrics import ConfusionMatrixDisplay\n",
    "from sklearn.linear_model import LogisticRegression\n",
    "\n",
    "from sklearn.model_selection import GridSearchCV"
   ]
  },
  {
   "cell_type": "markdown",
   "id": "5bd27c7b-4076-44f7-8fc6-e38c0aafaeca",
   "metadata": {},
   "source": [
    "### Run"
   ]
  },
  {
   "cell_type": "code",
   "execution_count": 2,
   "id": "37eb25d7-6570-4274-a4eb-ed4f85730a92",
   "metadata": {},
   "outputs": [],
   "source": [
    "id_vectorizer = \"05\""
   ]
  },
  {
   "cell_type": "code",
   "execution_count": 3,
   "id": "0c6f9daf-14b3-4f0e-861b-18a136e9cc26",
   "metadata": {},
   "outputs": [],
   "source": [
    "id_model = \"06\""
   ]
  },
  {
   "cell_type": "markdown",
   "id": "2375bcb4-9130-4fab-af76-8fd05071d54b",
   "metadata": {
    "tags": []
   },
   "source": [
    "### Import data"
   ]
  },
  {
   "cell_type": "code",
   "execution_count": 4,
   "id": "188fd85f-4f27-410d-b397-faee84051049",
   "metadata": {},
   "outputs": [],
   "source": [
    "en = create_engine('mysql+mysqlconnector://duinmat:$Mo/qdGSnX$MEi@oege.ie.hva.nl/zduinmat')"
   ]
  },
  {
   "cell_type": "code",
   "execution_count": 5,
   "id": "6a7339b0-2f7f-4797-a031-9810ec5bc9f2",
   "metadata": {},
   "outputs": [],
   "source": [
    "df = pd.read_sql(\"Select * from Tweets_clean_with_Sentiment\", en)"
   ]
  },
  {
   "cell_type": "markdown",
   "id": "04ca0d3d-fdec-4aba-a2a3-e6a9588ea456",
   "metadata": {
    "tags": []
   },
   "source": [
    "### Lower case"
   ]
  },
  {
   "cell_type": "code",
   "execution_count": 6,
   "id": "15c7dfa8-dedf-4417-b430-a8aa6d001d0b",
   "metadata": {},
   "outputs": [],
   "source": [
    "df.content= [content.lower() for content in df.content]"
   ]
  },
  {
   "cell_type": "markdown",
   "id": "062026d7-79f7-47cd-a9fa-33eed39bfe47",
   "metadata": {},
   "source": [
    "### Remove not helpful elements"
   ]
  },
  {
   "cell_type": "code",
   "execution_count": 7,
   "id": "ccb238a2-6fd4-4945-b80f-ae572f3d2d3b",
   "metadata": {},
   "outputs": [],
   "source": [
    "for ch in ['0','1','2','3','4','5','6','7','8','9',',',\"'\",'\\\\','`','*','_','{','}','[',']','(',')','>','#','+','-','.','!','$','\\'']:\n",
    "        df.content = [content.replace(ch,'') for content in df.content]"
   ]
  },
  {
   "cell_type": "markdown",
   "id": "6bf9977e-7532-496e-8cfd-ad1628c5dbe7",
   "metadata": {},
   "source": [
    "### Add stop words"
   ]
  },
  {
   "cell_type": "code",
   "execution_count": 8,
   "id": "740ef4fe-eae7-4446-82a2-f306b48811b6",
   "metadata": {},
   "outputs": [],
   "source": [
    "my_words = [\"bitcoin\",\"btc\",\"time\",\"news\",\"crypto\",\"market\",\"strategy\",\"usdt\",\"prices\",\"doge\",\n",
    "            \"usd\", \"update\",\"signal\",\"week\",\"financial\",\"last\",\"open\",\"short\",\"cryptocurrenc\",\"change\"\n",
    "           \"ethereum\",\"bianance\",\"bytes\",\"antpool\",\"miner\",\"block\"]\n",
    "\n",
    "my_stop_words = ENGLISH_STOP_WORDS.union(my_words)"
   ]
  },
  {
   "cell_type": "markdown",
   "id": "6447ee69-e375-4619-ab29-da7ce926d971",
   "metadata": {},
   "source": [
    "### Tfldf "
   ]
  },
  {
   "cell_type": "code",
   "execution_count": 9,
   "id": "15260db7-e804-4321-b9ad-8eebb5513848",
   "metadata": {},
   "outputs": [],
   "source": [
    "max_features = 10000\n",
    "max_df=0.90\n",
    "min_df=2\n",
    "ngram_range=(1, 3)"
   ]
  },
  {
   "cell_type": "code",
   "execution_count": 10,
   "id": "5bd111c5-5440-40d7-9c14-4bcd7ded9773",
   "metadata": {},
   "outputs": [],
   "source": [
    "vect = TfidfVectorizer(max_features=max_features,max_df=max_df , min_df=min_df,stop_words=my_stop_words,ngram_range=ngram_range).fit(df.content)\n",
    "X = vect.transform(df.content)"
   ]
  },
  {
   "cell_type": "code",
   "execution_count": 11,
   "id": "0abb1fc0-1166-4716-9e38-3d065d89ff64",
   "metadata": {},
   "outputs": [],
   "source": [
    "pickle.dump( vect, open( \"Data/{}_data_vectorizer.p\".format(id_vectorizer), \"wb\" ) )"
   ]
  },
  {
   "cell_type": "code",
   "execution_count": 12,
   "id": "452ab5eb-35ed-4760-8fa2-d8b43567aeed",
   "metadata": {},
   "outputs": [
    {
     "data": {
      "text/html": [
       "<div>\n",
       "<style scoped>\n",
       "    .dataframe tbody tr th:only-of-type {\n",
       "        vertical-align: middle;\n",
       "    }\n",
       "\n",
       "    .dataframe tbody tr th {\n",
       "        vertical-align: top;\n",
       "    }\n",
       "\n",
       "    .dataframe thead th {\n",
       "        text-align: right;\n",
       "    }\n",
       "</style>\n",
       "<table border=\"1\" class=\"dataframe\">\n",
       "  <thead>\n",
       "    <tr style=\"text-align: right;\">\n",
       "      <th></th>\n",
       "      <th>aapl</th>\n",
       "      <th>aave</th>\n",
       "      <th>abbc</th>\n",
       "      <th>abc</th>\n",
       "      <th>ability</th>\n",
       "      <th>ability earn</th>\n",
       "      <th>ability earn fsk</th>\n",
       "      <th>able</th>\n",
       "      <th>abrafi</th>\n",
       "      <th>abrafi virtual</th>\n",
       "      <th>...</th>\n",
       "      <th>zoom</th>\n",
       "      <th>zrx</th>\n",
       "      <th>zrx hours</th>\n",
       "      <th>zrx hours zrx</th>\n",
       "      <th>zrx minutes</th>\n",
       "      <th>zrx zrxbtc</th>\n",
       "      <th>zrx zrxbtc binance</th>\n",
       "      <th>zrxbtc</th>\n",
       "      <th>zrxbtc binance</th>\n",
       "      <th>zrxbtc binance zrx</th>\n",
       "    </tr>\n",
       "  </thead>\n",
       "  <tbody>\n",
       "    <tr>\n",
       "      <th>0</th>\n",
       "      <td>0.0</td>\n",
       "      <td>0.0</td>\n",
       "      <td>0.0</td>\n",
       "      <td>0.0</td>\n",
       "      <td>0.0</td>\n",
       "      <td>0.0</td>\n",
       "      <td>0.0</td>\n",
       "      <td>0.0</td>\n",
       "      <td>0.0</td>\n",
       "      <td>0.0</td>\n",
       "      <td>...</td>\n",
       "      <td>0.0</td>\n",
       "      <td>0.0</td>\n",
       "      <td>0.0</td>\n",
       "      <td>0.0</td>\n",
       "      <td>0.0</td>\n",
       "      <td>0.0</td>\n",
       "      <td>0.0</td>\n",
       "      <td>0.0</td>\n",
       "      <td>0.0</td>\n",
       "      <td>0.0</td>\n",
       "    </tr>\n",
       "    <tr>\n",
       "      <th>1</th>\n",
       "      <td>0.0</td>\n",
       "      <td>0.0</td>\n",
       "      <td>0.0</td>\n",
       "      <td>0.0</td>\n",
       "      <td>0.0</td>\n",
       "      <td>0.0</td>\n",
       "      <td>0.0</td>\n",
       "      <td>0.0</td>\n",
       "      <td>0.0</td>\n",
       "      <td>0.0</td>\n",
       "      <td>...</td>\n",
       "      <td>0.0</td>\n",
       "      <td>0.0</td>\n",
       "      <td>0.0</td>\n",
       "      <td>0.0</td>\n",
       "      <td>0.0</td>\n",
       "      <td>0.0</td>\n",
       "      <td>0.0</td>\n",
       "      <td>0.0</td>\n",
       "      <td>0.0</td>\n",
       "      <td>0.0</td>\n",
       "    </tr>\n",
       "    <tr>\n",
       "      <th>2</th>\n",
       "      <td>0.0</td>\n",
       "      <td>0.0</td>\n",
       "      <td>0.0</td>\n",
       "      <td>0.0</td>\n",
       "      <td>0.0</td>\n",
       "      <td>0.0</td>\n",
       "      <td>0.0</td>\n",
       "      <td>0.0</td>\n",
       "      <td>0.0</td>\n",
       "      <td>0.0</td>\n",
       "      <td>...</td>\n",
       "      <td>0.0</td>\n",
       "      <td>0.0</td>\n",
       "      <td>0.0</td>\n",
       "      <td>0.0</td>\n",
       "      <td>0.0</td>\n",
       "      <td>0.0</td>\n",
       "      <td>0.0</td>\n",
       "      <td>0.0</td>\n",
       "      <td>0.0</td>\n",
       "      <td>0.0</td>\n",
       "    </tr>\n",
       "    <tr>\n",
       "      <th>3</th>\n",
       "      <td>0.0</td>\n",
       "      <td>0.0</td>\n",
       "      <td>0.0</td>\n",
       "      <td>0.0</td>\n",
       "      <td>0.0</td>\n",
       "      <td>0.0</td>\n",
       "      <td>0.0</td>\n",
       "      <td>0.0</td>\n",
       "      <td>0.0</td>\n",
       "      <td>0.0</td>\n",
       "      <td>...</td>\n",
       "      <td>0.0</td>\n",
       "      <td>0.0</td>\n",
       "      <td>0.0</td>\n",
       "      <td>0.0</td>\n",
       "      <td>0.0</td>\n",
       "      <td>0.0</td>\n",
       "      <td>0.0</td>\n",
       "      <td>0.0</td>\n",
       "      <td>0.0</td>\n",
       "      <td>0.0</td>\n",
       "    </tr>\n",
       "    <tr>\n",
       "      <th>4</th>\n",
       "      <td>0.0</td>\n",
       "      <td>0.0</td>\n",
       "      <td>0.0</td>\n",
       "      <td>0.0</td>\n",
       "      <td>0.0</td>\n",
       "      <td>0.0</td>\n",
       "      <td>0.0</td>\n",
       "      <td>0.0</td>\n",
       "      <td>0.0</td>\n",
       "      <td>0.0</td>\n",
       "      <td>...</td>\n",
       "      <td>0.0</td>\n",
       "      <td>0.0</td>\n",
       "      <td>0.0</td>\n",
       "      <td>0.0</td>\n",
       "      <td>0.0</td>\n",
       "      <td>0.0</td>\n",
       "      <td>0.0</td>\n",
       "      <td>0.0</td>\n",
       "      <td>0.0</td>\n",
       "      <td>0.0</td>\n",
       "    </tr>\n",
       "  </tbody>\n",
       "</table>\n",
       "<p>5 rows × 10000 columns</p>\n",
       "</div>"
      ],
      "text/plain": [
       "   aapl  aave  abbc  abc  ability  ability earn  ability earn fsk  able  \\\n",
       "0   0.0   0.0   0.0  0.0      0.0           0.0               0.0   0.0   \n",
       "1   0.0   0.0   0.0  0.0      0.0           0.0               0.0   0.0   \n",
       "2   0.0   0.0   0.0  0.0      0.0           0.0               0.0   0.0   \n",
       "3   0.0   0.0   0.0  0.0      0.0           0.0               0.0   0.0   \n",
       "4   0.0   0.0   0.0  0.0      0.0           0.0               0.0   0.0   \n",
       "\n",
       "   abrafi  abrafi virtual  ...  zoom  zrx  zrx hours  zrx hours zrx  \\\n",
       "0     0.0             0.0  ...   0.0  0.0        0.0            0.0   \n",
       "1     0.0             0.0  ...   0.0  0.0        0.0            0.0   \n",
       "2     0.0             0.0  ...   0.0  0.0        0.0            0.0   \n",
       "3     0.0             0.0  ...   0.0  0.0        0.0            0.0   \n",
       "4     0.0             0.0  ...   0.0  0.0        0.0            0.0   \n",
       "\n",
       "   zrx minutes  zrx zrxbtc  zrx zrxbtc binance  zrxbtc  zrxbtc binance  \\\n",
       "0          0.0         0.0                 0.0     0.0             0.0   \n",
       "1          0.0         0.0                 0.0     0.0             0.0   \n",
       "2          0.0         0.0                 0.0     0.0             0.0   \n",
       "3          0.0         0.0                 0.0     0.0             0.0   \n",
       "4          0.0         0.0                 0.0     0.0             0.0   \n",
       "\n",
       "   zrxbtc binance zrx  \n",
       "0                 0.0  \n",
       "1                 0.0  \n",
       "2                 0.0  \n",
       "3                 0.0  \n",
       "4                 0.0  \n",
       "\n",
       "[5 rows x 10000 columns]"
      ]
     },
     "execution_count": 12,
     "metadata": {},
     "output_type": "execute_result"
    }
   ],
   "source": [
    "X_df = pd.DataFrame(X.toarray(), columns=vect.get_feature_names_out())\n",
    "X_df.head()"
   ]
  },
  {
   "cell_type": "markdown",
   "id": "e7164c26-f985-41e0-adc8-6946156217fc",
   "metadata": {
    "tags": []
   },
   "source": [
    "# Train model without hyperparameter optimization"
   ]
  },
  {
   "cell_type": "code",
   "execution_count": 13,
   "id": "3d3643bb-ed2b-4069-9095-98500cce6d4f",
   "metadata": {},
   "outputs": [],
   "source": [
    "y = df.vaderSentiment_number.values\n",
    "X = X_df"
   ]
  },
  {
   "cell_type": "markdown",
   "id": "96a0f577-7ba1-46ea-9fc3-f9f8c3858dcd",
   "metadata": {
    "tags": []
   },
   "source": [
    "### Train/ test split"
   ]
  },
  {
   "cell_type": "code",
   "execution_count": 14,
   "id": "8d86acd5-2f0e-4158-a569-9fa44f236427",
   "metadata": {},
   "outputs": [],
   "source": [
    "X_train, X_test, y_train, y_test = train_test_split(X, y, test_size=0.3, random_state=42,stratify=y)"
   ]
  },
  {
   "cell_type": "code",
   "execution_count": 15,
   "id": "3157e43d-87a0-43dd-9b15-22800ec36d3d",
   "metadata": {},
   "outputs": [],
   "source": [
    "del X\n",
    "del y\n",
    "del X_df\n",
    "del df"
   ]
  },
  {
   "cell_type": "markdown",
   "id": "73bc9c17-7aef-44c4-ade3-60d3c4180537",
   "metadata": {
    "tags": []
   },
   "source": [
    "### Train model"
   ]
  },
  {
   "cell_type": "code",
   "execution_count": 17,
   "id": "d8ee9436-909d-4c11-880a-5a9577832c0e",
   "metadata": {},
   "outputs": [],
   "source": [
    "log_reg = LogisticRegression(multi_class='multinomial',max_iter=1000,C=10)"
   ]
  },
  {
   "cell_type": "code",
   "execution_count": 21,
   "id": "8a88b140-cf27-4710-9987-bdded66e270c",
   "metadata": {},
   "outputs": [
    {
     "data": {
      "text/plain": [
       "LogisticRegression(C=10, max_iter=1000, multi_class='multinomial')"
      ]
     },
     "execution_count": 21,
     "metadata": {},
     "output_type": "execute_result"
    }
   ],
   "source": [
    "log_reg.fit(X_train,y_train)"
   ]
  },
  {
   "cell_type": "code",
   "execution_count": 23,
   "id": "e34c0689-6305-4a2d-a906-d8bdb43fe9fa",
   "metadata": {},
   "outputs": [
    {
     "data": {
      "text/plain": [
       "0.9526182009300553"
      ]
     },
     "execution_count": 23,
     "metadata": {},
     "output_type": "execute_result"
    }
   ],
   "source": [
    "log_reg.score(X_train,y_train)"
   ]
  },
  {
   "cell_type": "code",
   "execution_count": 25,
   "id": "a2ac8d3a-efa7-43cd-ac99-b865ce1749fe",
   "metadata": {},
   "outputs": [
    {
     "data": {
      "text/plain": [
       "0.9458544596561937"
      ]
     },
     "execution_count": 25,
     "metadata": {},
     "output_type": "execute_result"
    }
   ],
   "source": [
    "log_reg.score(X_test,y_test)"
   ]
  },
  {
   "cell_type": "code",
   "execution_count": 27,
   "id": "b1858fd3-7360-46d9-b45f-0b2d68439999",
   "metadata": {},
   "outputs": [],
   "source": [
    "pickle.dump( log_reg, open( \"Model/{}_LogisticRegression.p\".format(id_model), \"wb\" ) )"
   ]
  },
  {
   "cell_type": "markdown",
   "id": "62e95495-43ab-424b-8b06-7bacb9100790",
   "metadata": {},
   "source": [
    "# Train model with hyperparameter optimization"
   ]
  },
  {
   "cell_type": "code",
   "execution_count": 18,
   "id": "a8589036-7848-4321-b1e7-4dbdbc622e31",
   "metadata": {},
   "outputs": [],
   "source": [
    "y = df.vaderSentiment_number.values\n",
    "X = X_df"
   ]
  },
  {
   "cell_type": "code",
   "execution_count": 19,
   "id": "0c205581-35bc-4e92-9d47-6bf9c2fd2d35",
   "metadata": {},
   "outputs": [],
   "source": [
    "log_reg = LogisticRegression(multi_class='multinomial',max_iter=1000)"
   ]
  },
  {
   "cell_type": "code",
   "execution_count": 20,
   "id": "65c58f10-0879-402b-b5c9-d6e940538234",
   "metadata": {},
   "outputs": [],
   "source": [
    "parameters = {'C': [10, 1.0, 0.1, 0.01]}"
   ]
  },
  {
   "cell_type": "code",
   "execution_count": 32,
   "id": "393b69a7-bfc5-4379-a51b-57a55b115360",
   "metadata": {},
   "outputs": [],
   "source": [
    "grid_search = GridSearchCV(log_reg, parameters,scoring='accuracy', cv=3)"
   ]
  },
  {
   "cell_type": "code",
   "execution_count": 23,
   "id": "217ae68c-f895-420b-8acd-abb0b25d44d7",
   "metadata": {},
   "outputs": [],
   "source": [
    "X_train, X_test, y_train, y_test = train_test_split(X, y, test_size=0.5, random_state=42,stratify=y)"
   ]
  },
  {
   "cell_type": "code",
   "execution_count": 33,
   "id": "f26049c1-e5cc-4706-8c00-5ab485b93bc9",
   "metadata": {},
   "outputs": [
    {
     "data": {
      "text/plain": [
       "GridSearchCV(cv=3,\n",
       "             estimator=LogisticRegression(max_iter=1000,\n",
       "                                          multi_class='multinomial'),\n",
       "             param_grid={'C': [10, 1.0, 0.1, 0.01]}, scoring='accuracy')"
      ]
     },
     "execution_count": 33,
     "metadata": {},
     "output_type": "execute_result"
    }
   ],
   "source": [
    "grid_search.fit(X_train, y_train)"
   ]
  },
  {
   "cell_type": "code",
   "execution_count": null,
   "id": "1883facd-88ab-42e7-b0ca-b901a7520a56",
   "metadata": {},
   "outputs": [],
   "source": [
    "grid_search.best_params_"
   ]
  },
  {
   "cell_type": "code",
   "execution_count": 34,
   "id": "938f3752-f70a-4eb3-93ae-c05a45720d6d",
   "metadata": {},
   "outputs": [],
   "source": [
    "pickle.dump( grid_search, open( \"Model/{}_LogisticRegression.p\".format(id_model), \"wb\" ) )"
   ]
  },
  {
   "cell_type": "markdown",
   "id": "6e0e90d7-c7e5-463b-9a4e-43ce42f263d8",
   "metadata": {},
   "source": [
    "### Get Model"
   ]
  },
  {
   "cell_type": "code",
   "execution_count": 29,
   "id": "e30aa881-944d-4850-a3c0-b2002c79f07d",
   "metadata": {},
   "outputs": [],
   "source": [
    "def get_model(model_id,estimator_name):\n",
    "    return pickle.load( open(\"Model/{}_{}.p\".format(model_id,estimator_name), \"rb\" ) )"
   ]
  },
  {
   "cell_type": "markdown",
   "id": "4b790fd6-b6ef-498e-af5e-a0fbb6a955ae",
   "metadata": {},
   "source": [
    "### Get Confusion Matrix"
   ]
  },
  {
   "cell_type": "code",
   "execution_count": 31,
   "id": "640a8557-f00e-43a4-bccd-6f3f0f872ef6",
   "metadata": {},
   "outputs": [],
   "source": [
    "def get_confusion_matrix(y_test,y_predicted,estimator,id_model):\n",
    "    cm = confusion_matrix(y_test, y_predicted)/len(y_test)\n",
    "    disp = ConfusionMatrixDisplay(confusion_matrix=cm, display_labels=estimator.classes_)\n",
    "    disp.plot()\n",
    "    plt.title(('Confusion matrix of the {} classifier').format(estimator.__class__.__name__))\n",
    "    plt.savefig(\"Model/{}_{}_confusion_matrix.pdf\".format(id_model,estimator.__class__.__name__))\n",
    "    plt.show()"
   ]
  },
  {
   "cell_type": "markdown",
   "id": "92c41dc2-0a4b-495a-98b7-4e1f6c5e4e7a",
   "metadata": {},
   "source": [
    "### Explore models results "
   ]
  },
  {
   "cell_type": "code",
   "execution_count": 33,
   "id": "4c38f65a-c476-4c56-8371-4b3f7438e1bb",
   "metadata": {},
   "outputs": [],
   "source": [
    "log_reg = get_model(\"06\",\"LogisticRegression\")"
   ]
  },
  {
   "cell_type": "code",
   "execution_count": 35,
   "id": "eff5fe0a-64c3-4897-bf83-f4815cc2715c",
   "metadata": {},
   "outputs": [],
   "source": [
    "y_predicted = log_reg.predict(X_test)"
   ]
  },
  {
   "cell_type": "code",
   "execution_count": 37,
   "id": "e96f7c4f-68de-43f7-8806-44b4bdca74da",
   "metadata": {},
   "outputs": [
    {
     "data": {
      "image/png": "[encoded data removed]",
      "text/plain": [
       "<Figure size 432x288 with 2 Axes>"
      ]
     },
     "metadata": {
      "needs_background": "light"
     },
     "output_type": "display_data"
    }
   ],
   "source": [
    "get_confusion_matrix(y_test,y_predicted,log_reg,id_model)"
   ]
  },
  {
   "cell_type": "code",
   "execution_count": 39,
   "id": "9cb18783-c970-47d9-87aa-9ed82d0d525f",
   "metadata": {},
   "outputs": [
    {
     "name": "stdout",
     "output_type": "stream",
     "text": [
      "0.9526182009300553\n",
      "0.9458544596561937\n"
     ]
    }
   ],
   "source": [
    "print(log_reg.score(X_train,y_train))\n",
    "print(log_reg.score(X_test,y_test))"
   ]
  },
  {
   "cell_type": "code",
   "execution_count": null,
   "id": "6f420561-ae44-4d8d-b6c9-c57c721a2051",
   "metadata": {},
   "outputs": [],
   "source": []
  }
 ],
 "metadata": {
  "kernelspec": {
   "display_name": "Python [conda env:python37] *",
   "language": "python",
   "name": "conda-env-python37-py"
  },
  "language_info": {
   "codemirror_mode": {
    "name": "ipython",
    "version": 3
   },
   "file_extension": ".py",
   "mimetype": "text/x-python",
   "name": "python",
   "nbconvert_exporter": "python",
   "pygments_lexer": "ipython3",
   "version": "3.7.11"
  }
 },
 "nbformat": 4,
 "nbformat_minor": 5
}
