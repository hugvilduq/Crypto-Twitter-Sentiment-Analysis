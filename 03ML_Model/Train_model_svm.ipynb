{
 "cells": [
  {
   "cell_type": "markdown",
   "metadata": {},
   "source": [
    "## Data split"
   ]
  },
  {
   "cell_type": "code",
   "execution_count": 1,
   "metadata": {},
   "outputs": [],
   "source": [
    "import pandas as pd\n",
    "\n",
    "from sklearn.feature_extraction.text import TfidfVectorizer, ENGLISH_STOP_WORDS \n",
    "from sklearn.model_selection import train_test_split\n",
    "\n",
    "import pickle\n",
    "\n",
    "import json \n",
    "\n",
    "from sqlalchemy import create_engine"
   ]
  },
  {
   "cell_type": "markdown",
   "metadata": {},
   "source": [
    "### Run"
   ]
  },
  {
   "cell_type": "code",
   "execution_count": 2,
   "metadata": {},
   "outputs": [],
   "source": [
    "id_vectorizer = \"02\""
   ]
  },
  {
   "cell_type": "code",
   "execution_count": 3,
   "metadata": {},
   "outputs": [],
   "source": [
    "id_model = \"02\""
   ]
  },
  {
   "cell_type": "markdown",
   "metadata": {
    "tags": []
   },
   "source": [
    "### Import data"
   ]
  },
  {
   "cell_type": "code",
   "execution_count": 4,
   "metadata": {},
   "outputs": [],
   "source": [
    "en = create_engine('mysql+mysqlconnector://duinmat:$Mo/qdGSnX$MEi@oege.ie.hva.nl/zduinmat')"
   ]
  },
  {
   "cell_type": "code",
   "execution_count": 5,
   "metadata": {},
   "outputs": [],
   "source": [
    "df = pd.read_sql(\"Select * from Tweets_clean_with_Sentiment\", en)"
   ]
  },
  {
   "cell_type": "markdown",
   "metadata": {
    "tags": []
   },
   "source": [
    "### Lower case"
   ]
  },
  {
   "cell_type": "code",
   "execution_count": 6,
   "metadata": {},
   "outputs": [],
   "source": [
    "df.content= [content.lower() for content in df.content]"
   ]
  },
  {
   "cell_type": "markdown",
   "metadata": {},
   "source": [
    "### Remove not helpful elements"
   ]
  },
  {
   "cell_type": "code",
   "execution_count": 7,
   "metadata": {},
   "outputs": [],
   "source": [
    "for ch in ['0','1','2','3','4','5','6','7','8','9',',',\"'\",'\\\\','`','*','_','{','}','[',']','(',')','>','#','+','-','.','!','$','\\'']:\n",
    "        df.content = [content.replace(ch,'') for content in df.content]"
   ]
  },
  {
   "cell_type": "markdown",
   "metadata": {},
   "source": [
    "### Add stop words"
   ]
  },
  {
   "cell_type": "code",
   "execution_count": 8,
   "metadata": {},
   "outputs": [],
   "source": [
    "my_words = [\"bitcoin\",\"btc\"]\n",
    "\n",
    "my_stop_words = ENGLISH_STOP_WORDS.union(my_words)"
   ]
  },
  {
   "cell_type": "markdown",
   "metadata": {},
   "source": [
    "### Tfldf"
   ]
  },
  {
   "cell_type": "code",
   "execution_count": 9,
   "metadata": {},
   "outputs": [],
   "source": [
    "max_features= 2000\n",
    "max_df=0.90\n",
    "min_df=2\n",
    "ngram_range=(1, 3)"
   ]
  },
  {
   "cell_type": "code",
   "execution_count": 10,
   "metadata": {},
   "outputs": [],
   "source": [
    "vect = TfidfVectorizer(max_features=max_features,max_df=max_df , min_df=min_df,stop_words=my_stop_words,ngram_range=ngram_range).fit(df.content)\n",
    "X = vect.transform(df.content)"
   ]
  },
  {
   "cell_type": "code",
   "execution_count": null,
   "metadata": {},
   "outputs": [],
   "source": [
    "pickle.dump( vect, open( \"Data/{}_data_vectorizer.p\".format(id_vectorizer), \"wb\" ) )"
   ]
  },
  {
   "cell_type": "code",
   "execution_count": 11,
   "metadata": {},
   "outputs": [
    {
     "name": "stderr",
     "output_type": "stream",
     "text": [
      "C:\\Users\\Trabajo\\AppData\\Roaming\\Python\\Python39\\site-packages\\sklearn\\utils\\deprecation.py:87: FutureWarning: Function get_feature_names is deprecated; get_feature_names is deprecated in 1.0 and will be removed in 1.2. Please use get_feature_names_out instead.\n",
      "  warnings.warn(msg, category=FutureWarning)\n"
     ]
    },
    {
     "data": {
      "text/html": [
       "<div>\n",
       "<style scoped>\n",
       "    .dataframe tbody tr th:only-of-type {\n",
       "        vertical-align: middle;\n",
       "    }\n",
       "\n",
       "    .dataframe tbody tr th {\n",
       "        vertical-align: top;\n",
       "    }\n",
       "\n",
       "    .dataframe thead th {\n",
       "        text-align: right;\n",
       "    }\n",
       "</style>\n",
       "<table border=\"1\" class=\"dataframe\">\n",
       "  <thead>\n",
       "    <tr style=\"text-align: right;\">\n",
       "      <th></th>\n",
       "      <th>access</th>\n",
       "      <th>accuracy</th>\n",
       "      <th>activity</th>\n",
       "      <th>activity minute</th>\n",
       "      <th>activity minute vol</th>\n",
       "      <th>activity minutes</th>\n",
       "      <th>activity minutes vol</th>\n",
       "      <th>activity seconds</th>\n",
       "      <th>activity seconds vol</th>\n",
       "      <th>ada</th>\n",
       "      <th>...</th>\n",
       "      <th>yobit hitbtc livecoin</th>\n",
       "      <th>zar</th>\n",
       "      <th>zar free</th>\n",
       "      <th>zar luno</th>\n",
       "      <th>zar luno exchange</th>\n",
       "      <th>zcore</th>\n",
       "      <th>zcore stratum</th>\n",
       "      <th>zcore stratum fuckthebanks</th>\n",
       "      <th>zec</th>\n",
       "      <th>zrx</th>\n",
       "    </tr>\n",
       "  </thead>\n",
       "  <tbody>\n",
       "    <tr>\n",
       "      <th>0</th>\n",
       "      <td>0.0</td>\n",
       "      <td>0.0</td>\n",
       "      <td>0.00000</td>\n",
       "      <td>0.0</td>\n",
       "      <td>0.0</td>\n",
       "      <td>0.0</td>\n",
       "      <td>0.0</td>\n",
       "      <td>0.000000</td>\n",
       "      <td>0.000000</td>\n",
       "      <td>0.0</td>\n",
       "      <td>...</td>\n",
       "      <td>0.0</td>\n",
       "      <td>0.0</td>\n",
       "      <td>0.0</td>\n",
       "      <td>0.0</td>\n",
       "      <td>0.0</td>\n",
       "      <td>0.0</td>\n",
       "      <td>0.0</td>\n",
       "      <td>0.0</td>\n",
       "      <td>0.0</td>\n",
       "      <td>0.0</td>\n",
       "    </tr>\n",
       "    <tr>\n",
       "      <th>1</th>\n",
       "      <td>0.0</td>\n",
       "      <td>0.0</td>\n",
       "      <td>0.00000</td>\n",
       "      <td>0.0</td>\n",
       "      <td>0.0</td>\n",
       "      <td>0.0</td>\n",
       "      <td>0.0</td>\n",
       "      <td>0.000000</td>\n",
       "      <td>0.000000</td>\n",
       "      <td>0.0</td>\n",
       "      <td>...</td>\n",
       "      <td>0.0</td>\n",
       "      <td>0.0</td>\n",
       "      <td>0.0</td>\n",
       "      <td>0.0</td>\n",
       "      <td>0.0</td>\n",
       "      <td>0.0</td>\n",
       "      <td>0.0</td>\n",
       "      <td>0.0</td>\n",
       "      <td>0.0</td>\n",
       "      <td>0.0</td>\n",
       "    </tr>\n",
       "    <tr>\n",
       "      <th>2</th>\n",
       "      <td>0.0</td>\n",
       "      <td>0.0</td>\n",
       "      <td>0.20959</td>\n",
       "      <td>0.0</td>\n",
       "      <td>0.0</td>\n",
       "      <td>0.0</td>\n",
       "      <td>0.0</td>\n",
       "      <td>0.237267</td>\n",
       "      <td>0.237281</td>\n",
       "      <td>0.0</td>\n",
       "      <td>...</td>\n",
       "      <td>0.0</td>\n",
       "      <td>0.0</td>\n",
       "      <td>0.0</td>\n",
       "      <td>0.0</td>\n",
       "      <td>0.0</td>\n",
       "      <td>0.0</td>\n",
       "      <td>0.0</td>\n",
       "      <td>0.0</td>\n",
       "      <td>0.0</td>\n",
       "      <td>0.0</td>\n",
       "    </tr>\n",
       "    <tr>\n",
       "      <th>3</th>\n",
       "      <td>0.0</td>\n",
       "      <td>0.0</td>\n",
       "      <td>0.00000</td>\n",
       "      <td>0.0</td>\n",
       "      <td>0.0</td>\n",
       "      <td>0.0</td>\n",
       "      <td>0.0</td>\n",
       "      <td>0.000000</td>\n",
       "      <td>0.000000</td>\n",
       "      <td>0.0</td>\n",
       "      <td>...</td>\n",
       "      <td>0.0</td>\n",
       "      <td>0.0</td>\n",
       "      <td>0.0</td>\n",
       "      <td>0.0</td>\n",
       "      <td>0.0</td>\n",
       "      <td>0.0</td>\n",
       "      <td>0.0</td>\n",
       "      <td>0.0</td>\n",
       "      <td>0.0</td>\n",
       "      <td>0.0</td>\n",
       "    </tr>\n",
       "    <tr>\n",
       "      <th>4</th>\n",
       "      <td>0.0</td>\n",
       "      <td>0.0</td>\n",
       "      <td>0.00000</td>\n",
       "      <td>0.0</td>\n",
       "      <td>0.0</td>\n",
       "      <td>0.0</td>\n",
       "      <td>0.0</td>\n",
       "      <td>0.000000</td>\n",
       "      <td>0.000000</td>\n",
       "      <td>0.0</td>\n",
       "      <td>...</td>\n",
       "      <td>0.0</td>\n",
       "      <td>0.0</td>\n",
       "      <td>0.0</td>\n",
       "      <td>0.0</td>\n",
       "      <td>0.0</td>\n",
       "      <td>0.0</td>\n",
       "      <td>0.0</td>\n",
       "      <td>0.0</td>\n",
       "      <td>0.0</td>\n",
       "      <td>0.0</td>\n",
       "    </tr>\n",
       "  </tbody>\n",
       "</table>\n",
       "<p>5 rows × 2000 columns</p>\n",
       "</div>"
      ],
      "text/plain": [
       "   access  accuracy  activity  activity minute  activity minute vol  \\\n",
       "0     0.0       0.0   0.00000              0.0                  0.0   \n",
       "1     0.0       0.0   0.00000              0.0                  0.0   \n",
       "2     0.0       0.0   0.20959              0.0                  0.0   \n",
       "3     0.0       0.0   0.00000              0.0                  0.0   \n",
       "4     0.0       0.0   0.00000              0.0                  0.0   \n",
       "\n",
       "   activity minutes  activity minutes vol  activity seconds  \\\n",
       "0               0.0                   0.0          0.000000   \n",
       "1               0.0                   0.0          0.000000   \n",
       "2               0.0                   0.0          0.237267   \n",
       "3               0.0                   0.0          0.000000   \n",
       "4               0.0                   0.0          0.000000   \n",
       "\n",
       "   activity seconds vol  ada  ...  yobit hitbtc livecoin  zar  zar free  \\\n",
       "0              0.000000  0.0  ...                    0.0  0.0       0.0   \n",
       "1              0.000000  0.0  ...                    0.0  0.0       0.0   \n",
       "2              0.237281  0.0  ...                    0.0  0.0       0.0   \n",
       "3              0.000000  0.0  ...                    0.0  0.0       0.0   \n",
       "4              0.000000  0.0  ...                    0.0  0.0       0.0   \n",
       "\n",
       "   zar luno  zar luno exchange  zcore  zcore stratum  \\\n",
       "0       0.0                0.0    0.0            0.0   \n",
       "1       0.0                0.0    0.0            0.0   \n",
       "2       0.0                0.0    0.0            0.0   \n",
       "3       0.0                0.0    0.0            0.0   \n",
       "4       0.0                0.0    0.0            0.0   \n",
       "\n",
       "   zcore stratum fuckthebanks  zec  zrx  \n",
       "0                         0.0  0.0  0.0  \n",
       "1                         0.0  0.0  0.0  \n",
       "2                         0.0  0.0  0.0  \n",
       "3                         0.0  0.0  0.0  \n",
       "4                         0.0  0.0  0.0  \n",
       "\n",
       "[5 rows x 2000 columns]"
      ]
     },
     "execution_count": 11,
     "metadata": {},
     "output_type": "execute_result"
    }
   ],
   "source": [
    "X_df = pd.DataFrame(X.toarray(), columns=vect.get_feature_names())\n",
    "X_df.head()"
   ]
  },
  {
   "cell_type": "markdown",
   "metadata": {
    "tags": []
   },
   "source": [
    "### Train/ test split"
   ]
  },
  {
   "cell_type": "code",
   "execution_count": 12,
   "metadata": {},
   "outputs": [],
   "source": [
    "y = df.vaderSentiment_number\n",
    "X = X_df"
   ]
  },
  {
   "cell_type": "code",
   "execution_count": 13,
   "metadata": {},
   "outputs": [],
   "source": [
    "X_train, X_test, y_train, y_test = train_test_split(X, y, test_size=0.3, random_state=42, stratify=y)"
   ]
  },
  {
   "cell_type": "markdown",
   "metadata": {},
   "source": [
    "## Train model"
   ]
  },
  {
   "cell_type": "code",
   "execution_count": 14,
   "metadata": {},
   "outputs": [],
   "source": [
    "import pandas as pd\n",
    "import numpy as np\n",
    "\n",
    "import matplotlib.pyplot as plt\n",
    "\n",
    "from sklearn import metrics\n",
    "from sklearn.metrics import accuracy_score\n",
    "from sklearn.metrics import confusion_matrix\n",
    "from sklearn.metrics import ConfusionMatrixDisplay\n",
    "from sklearn.linear_model import LogisticRegression\n",
    "\n",
    "from sklearn.model_selection import GridSearchCV\n",
    "\n",
    "# from xgboost import XGBClassifier\n",
    "# from xgboost import plot_importance"
   ]
  },
  {
   "cell_type": "markdown",
   "metadata": {},
   "source": [
    "### LogisticRegression"
   ]
  },
  {
   "cell_type": "code",
   "execution_count": null,
   "metadata": {},
   "outputs": [],
   "source": [
    "log_reg = LogisticRegression(multi_class='multinomial',max_iter=1000)"
   ]
  },
  {
   "cell_type": "code",
   "execution_count": null,
   "metadata": {},
   "outputs": [],
   "source": [
    "log_reg.fit(X_train,y_train)"
   ]
  },
  {
   "cell_type": "code",
   "execution_count": null,
   "metadata": {},
   "outputs": [],
   "source": [
    "log_reg.score(X_train,y_train)"
   ]
  },
  {
   "cell_type": "code",
   "execution_count": null,
   "metadata": {},
   "outputs": [],
   "source": [
    "log_reg.score(X_test,y_test)"
   ]
  },
  {
   "cell_type": "code",
   "execution_count": null,
   "metadata": {},
   "outputs": [],
   "source": [
    "pickle.dump( log_reg, open( \"Model/{}_LogisticRegression.p\".format(id_model), \"wb\" ) )"
   ]
  },
  {
   "cell_type": "markdown",
   "metadata": {},
   "source": [
    "### Get Model"
   ]
  },
  {
   "cell_type": "code",
   "execution_count": null,
   "metadata": {},
   "outputs": [],
   "source": [
    "def get_model(model_id,estimator_name):\n",
    "    return pickle.load( open(\"Model/{}_{}.p\".format(model_id,estimator_name), \"rb\" ) )"
   ]
  },
  {
   "cell_type": "markdown",
   "metadata": {},
   "source": [
    "### Get Confusion Matrix"
   ]
  },
  {
   "cell_type": "code",
   "execution_count": null,
   "metadata": {},
   "outputs": [],
   "source": [
    "def get_confusion_matrix(y_test,y_predicted,estimator,id_model):\n",
    "    cm = confusion_matrix(y_test, y_predicted)/len(y_test)\n",
    "    disp = ConfusionMatrixDisplay(confusion_matrix=cm, display_labels=estimator.classes_)\n",
    "    disp.plot()\n",
    "    plt.title(('Confusion matrix of the {} classifier').format(estimator.__class__.__name__))\n",
    "    plt.savefig(\"Model/{}_{}_confusion_matrix.pdf\".format(id_model,estimator.__class__.__name__))\n",
    "    plt.show()"
   ]
  },
  {
   "cell_type": "markdown",
   "metadata": {},
   "source": [
    "### Explore models results "
   ]
  },
  {
   "cell_type": "code",
   "execution_count": null,
   "metadata": {},
   "outputs": [],
   "source": [
    "log_reg = get_model(\"02\",\"LogisticRegression\")"
   ]
  },
  {
   "cell_type": "code",
   "execution_count": null,
   "metadata": {},
   "outputs": [],
   "source": [
    "y_predicted = log_reg.predict(X_test)"
   ]
  },
  {
   "cell_type": "code",
   "execution_count": null,
   "metadata": {},
   "outputs": [],
   "source": [
    "get_confusion_matrix(y_test,y_predicted,log_reg,id_model)"
   ]
  },
  {
   "cell_type": "markdown",
   "id": "81c871b4",
   "metadata": {},
   "source": [
    "### Logistic Regression Hyperparameter Tuning"
   ]
  },
  {
   "cell_type": "code",
   "execution_count": null,
   "metadata": {},
   "outputs": [],
   "source": [
    "search_space = {\n",
    "    \"C\" : [10,5,1,0.1],\n",
    "    \"penalty\" : [\"l1\",\"l2\",\"elasticnet\"],\n",
    "    \"solver\" : [\"newton-cg\", \"lbfgs\", \"liblinear\"]\n",
    "}\n",
    "\n",
    "from sklearn.model_selection import GridSearchCV\n",
    "# make a GridSearchCV object\n",
    "GS = GridSearchCV(estimator = log_reg,\n",
    "                  param_grid = search_space,\n",
    "                  scoring = [\"accuracy\"], \n",
    "                  refit = \"accuracy\",\n",
    "                  cv = 2,\n",
    "                  verbose = 2)\n",
    "\n",
    "GS.fit(X_train, y_train)\n",
    "\n",
    "print(GS.best_estimator_) # to get the complete details of the best model\n",
    "print(GS.best_params_) # to get only the best hyperparameter values that we searched for\n",
    "print(GS.best_score_) # score according to the metric we passed in refit\n",
    "\n",
    "df_gridsearch = pd.DataFrame(GS.cv_results_)\n",
    "df_gridsearch[[\"mean_score_time\",\"params\",\"mean_test_accuracy\"]].sort_values(\"mean_test_accuracy\",ascending=False).head()\n"
   ]
  },
  {
   "cell_type": "markdown",
   "id": "ae034692",
   "metadata": {},
   "source": [
    "### Support Vector Machine"
   ]
  },
  {
   "cell_type": "code",
   "execution_count": 15,
   "id": "de44bbab",
   "metadata": {},
   "outputs": [],
   "source": [
    "from sklearn import svm\n",
    "\n",
    "svmach = svm.SVC(C=1.0, kernel='linear')\n",
    "svmach.fit(X_train,y_train)\n",
    "svmach.score(X_train,y_train)\n",
    "svmach.score(X_test,y_test)\n",
    "\n",
    "# ~40h (2400min)\n",
    "pickle.dump( svmach, open( \"Model2_svm.p\", \"wb\" )) \n"
   ]
  },
  {
   "cell_type": "code",
   "execution_count": 15,
   "id": "ee78afde",
   "metadata": {},
   "outputs": [],
   "source": [
    "svmach = pickle.load(open(\"Model2_svm.p\", 'rb'))"
   ]
  },
  {
   "cell_type": "code",
   "execution_count": 23,
   "id": "ddc17994",
   "metadata": {},
   "outputs": [],
   "source": [
    "def get_model(model_id,estimator_name):\n",
    "    return pickle.load( open(\"Model/{}_{}.p\".format(model_id,estimator_name), \"rb\" ) )\n",
    "\n",
    "def get_confusion_matrix(y_test,y_predicted,estimator,id_model):\n",
    "    cm = confusion_matrix(y_test, y_predicted)/len(y_test)\n",
    "    disp = ConfusionMatrixDisplay(confusion_matrix=cm, display_labels=estimator.classes_)\n",
    "    disp.plot()\n",
    "    plt.title(('Confusion matrix of the {} classifier').format(estimator.__class__.__name__))\n",
    "    plt.savefig(\"Model/{}_{}_confusion_matrix.pdf\".format(id_model,estimator.__class__.__name__))\n",
    "    plt.show()\n"
   ]
  },
  {
   "cell_type": "markdown",
   "id": "c639f729",
   "metadata": {},
   "source": [
    "### SVM performance"
   ]
  },
  {
   "cell_type": "code",
   "execution_count": 17,
   "id": "5bc33108",
   "metadata": {},
   "outputs": [],
   "source": [
    "pickle.dump(svmach, open(\"Model1_svm.p\", 'wb'))"
   ]
  },
  {
   "cell_type": "code",
   "execution_count": null,
   "id": "98d2d9fb",
   "metadata": {},
   "outputs": [],
   "source": [
    "    y_predicted = svmach.predict(X_test)\n",
    "\n",
    "    get_confusion_matrix(y_test,y_predicted,svmach,id_model)"
   ]
  },
  {
   "cell_type": "code",
   "execution_count": 16,
   "id": "30f252a7",
   "metadata": {},
   "outputs": [],
   "source": [
    "y_predicted = svmach.predict(X_test)"
   ]
  },
  {
   "cell_type": "code",
   "execution_count": 17,
   "id": "e767f310",
   "metadata": {},
   "outputs": [
    {
     "data": {
      "text/plain": [
       "0.9146293361254743"
      ]
     },
     "execution_count": 17,
     "metadata": {},
     "output_type": "execute_result"
    }
   ],
   "source": [
    "# Accuracy\n",
    "metrics.accuracy_score(y_test, y_predicted)"
   ]
  },
  {
   "cell_type": "code",
   "execution_count": null,
   "id": "0f8f2412",
   "metadata": {},
   "outputs": [],
   "source": [
    "# F1 score\n",
    "metrics.f1_score(y_test, y_predicted)"
   ]
  },
  {
   "cell_type": "code",
   "execution_count": null,
   "id": "c10a5ca1",
   "metadata": {},
   "outputs": [],
   "source": [
    "# Area under ROC curve\n",
    "metrics.roc_auc_score(y_test, y_predicted)"
   ]
  },
  {
   "cell_type": "code",
   "execution_count": 20,
   "id": "92c4f3ce",
   "metadata": {},
   "outputs": [
    {
     "data": {
      "text/plain": [
       "<sklearn.metrics._plot.confusion_matrix.ConfusionMatrixDisplay at 0x2af00d17a30>"
      ]
     },
     "execution_count": 20,
     "metadata": {},
     "output_type": "execute_result"
    },
    {
     "data": {
      "image/png": "[encoded data removed]",
      "text/plain": [
       "<Figure size 432x288 with 2 Axes>"
      ]
     },
     "metadata": {
      "needs_background": "light"
     },
     "output_type": "display_data"
    }
   ],
   "source": [
    "# Confusion matrix\n",
    "cm = confusion_matrix(y_test, y_predicted)/len(y_test)\n",
    "disp = ConfusionMatrixDisplay(confusion_matrix=cm)\n",
    "disp.plot()\n"
   ]
  },
  {
   "cell_type": "code",
   "execution_count": null,
   "id": "085abed5",
   "metadata": {},
   "outputs": [],
   "source": []
  }
 ],
 "metadata": {
  "kernelspec": {
   "display_name": "Python 3",
   "language": "python",
   "name": "python3"
  },
  "language_info": {
   "codemirror_mode": {
    "name": "ipython",
    "version": 3
   },
   "file_extension": ".py",
   "mimetype": "text/x-python",
   "name": "python",
   "nbconvert_exporter": "python",
   "pygments_lexer": "ipython3",
   "version": "3.9.1"
  }
 },
 "nbformat": 4,
 "nbformat_minor": 5
}
