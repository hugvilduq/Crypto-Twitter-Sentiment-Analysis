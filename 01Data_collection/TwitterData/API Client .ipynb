{
 "cells": [
  {
   "cell_type": "code",
   "execution_count": 1,
   "id": "79313c69",
   "metadata": {},
   "outputs": [],
   "source": [
    "import tweepy\n",
    "import webbrowser\n",
    "import time"
   ]
  },
  {
   "cell_type": "markdown",
   "id": "4a8f105f",
   "metadata": {},
   "source": [
    "## user data"
   ]
  },
  {
   "cell_type": "code",
   "execution_count": 2,
   "id": "f8510c1f",
   "metadata": {},
   "outputs": [],
   "source": [
    "consumer_key= \"RpbhJz8O34DmrmmeomaeOQx8V\"\n",
    "consumer_key_secret = \"0GO4OGt3YDDUeGxVUQNMXOiefEc0NqQk95lowlmqXuocbEjpyd\""
   ]
  },
  {
   "cell_type": "code",
   "execution_count": 3,
   "id": "805819bf",
   "metadata": {},
   "outputs": [],
   "source": [
    "callback_uri = \"oob\""
   ]
  },
  {
   "cell_type": "markdown",
   "id": "d7eb3a8d",
   "metadata": {},
   "source": [
    "## Get pin  "
   ]
  },
  {
   "cell_type": "code",
   "execution_count": 4,
   "id": "f497b2f1",
   "metadata": {},
   "outputs": [
    {
     "data": {
      "text/plain": [
       "True"
      ]
     },
     "execution_count": 4,
     "metadata": {},
     "output_type": "execute_result"
    }
   ],
   "source": [
    "auth = tweepy.OAuthHandler(consumer_key,consumer_key_secret,callback_uri)\n",
    "redirect_url = auth.get_authorization_url()\n",
    "webbrowser.open(redirect_url)"
   ]
  },
  {
   "cell_type": "markdown",
   "id": "729f9c76",
   "metadata": {},
   "source": [
    "## Save pin"
   ]
  },
  {
   "cell_type": "code",
   "execution_count": 5,
   "id": "2fddbc49",
   "metadata": {},
   "outputs": [
    {
     "name": "stdin",
     "output_type": "stream",
     "text": [
      "What's the pin value? 3807221\n"
     ]
    }
   ],
   "source": [
    "user_pin_input = input(\"What's the pin value?\")"
   ]
  },
  {
   "cell_type": "code",
   "execution_count": 6,
   "id": "46ed3aa0",
   "metadata": {},
   "outputs": [
    {
     "data": {
      "text/plain": [
       "'3807221'"
      ]
     },
     "execution_count": 6,
     "metadata": {},
     "output_type": "execute_result"
    }
   ],
   "source": [
    "user_pin_input"
   ]
  },
  {
   "cell_type": "markdown",
   "id": "7e7596ae",
   "metadata": {},
   "source": [
    "## Set acces token"
   ]
  },
  {
   "cell_type": "code",
   "execution_count": 7,
   "id": "3e51c745",
   "metadata": {},
   "outputs": [
    {
     "data": {
      "text/plain": [
       "('1436269544323043341-TpmPhL6QBSTZ7wKkpwEUfk5x86bdO1',\n",
       " 'gN7qvOhH3eRIwRT89lgVaTj2rkk8VXymmr5FgSirjVQPO')"
      ]
     },
     "execution_count": 7,
     "metadata": {},
     "output_type": "execute_result"
    }
   ],
   "source": [
    "auth.get_access_token(user_pin_input)"
   ]
  },
  {
   "cell_type": "code",
   "execution_count": 8,
   "id": "49473cfd",
   "metadata": {},
   "outputs": [
    {
     "data": {
      "text/plain": [
       "'1436269544323043341-TpmPhL6QBSTZ7wKkpwEUfk5x86bdO1'"
      ]
     },
     "execution_count": 8,
     "metadata": {},
     "output_type": "execute_result"
    }
   ],
   "source": [
    "auth.access_token"
   ]
  },
  {
   "cell_type": "code",
   "execution_count": 9,
   "id": "644491ac",
   "metadata": {},
   "outputs": [
    {
     "data": {
      "text/plain": [
       "'gN7qvOhH3eRIwRT89lgVaTj2rkk8VXymmr5FgSirjVQPO'"
      ]
     },
     "execution_count": 9,
     "metadata": {},
     "output_type": "execute_result"
    }
   ],
   "source": [
    "auth.access_token_secret"
   ]
  },
  {
   "cell_type": "markdown",
   "id": "3985ef66",
   "metadata": {},
   "source": [
    "## Acces API"
   ]
  },
  {
   "cell_type": "code",
   "execution_count": 10,
   "id": "e74353a7-2142-4bd6-983c-068dd3b05266",
   "metadata": {},
   "outputs": [],
   "source": [
    "api = tweepy.API(auth)"
   ]
  },
  {
   "cell_type": "code",
   "execution_count": 11,
   "id": "5093a5cd",
   "metadata": {},
   "outputs": [],
   "source": [
    "me = api.me()"
   ]
  },
  {
   "cell_type": "code",
   "execution_count": 12,
   "id": "4e8e673a",
   "metadata": {},
   "outputs": [
    {
     "data": {
      "text/plain": [
       "'Sven62283172'"
      ]
     },
     "execution_count": 12,
     "metadata": {},
     "output_type": "execute_result"
    }
   ],
   "source": [
    "me.screen_name"
   ]
  },
  {
   "cell_type": "code",
   "execution_count": null,
   "id": "733636c6",
   "metadata": {},
   "outputs": [],
   "source": []
  },
  {
   "cell_type": "code",
   "execution_count": null,
   "id": "e7b261c7-58ff-40a3-8fd3-3d59cf844334",
   "metadata": {},
   "outputs": [],
   "source": []
  }
 ],
 "metadata": {
  "kernelspec": {
   "display_name": "Python 3 (ipykernel)",
   "language": "python",
   "name": "python3"
  },
  "language_info": {
   "codemirror_mode": {
    "name": "ipython",
    "version": 3
   },
   "file_extension": ".py",
   "mimetype": "text/x-python",
   "name": "python",
   "nbconvert_exporter": "python",
   "pygments_lexer": "ipython3",
   "version": "3.8.11"
  }
 },
 "nbformat": 4,
 "nbformat_minor": 5
}
