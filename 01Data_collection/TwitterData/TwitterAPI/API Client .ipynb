{
 "cells": [
  {
   "cell_type": "code",
   "execution_count": 1,
   "id": "79313c69",
   "metadata": {},
   "outputs": [],
   "source": [
    "import tweepy\n",
    "import webbrowser\n",
    "from dotenv import load_dotenv\n",
    "import os\n",
    "import time"
   ]
  },
  {
   "cell_type": "markdown",
   "id": "4a8f105f",
   "metadata": {},
   "source": [
    "## Import user data from environ"
   ]
  },
  {
   "cell_type": "code",
   "execution_count": 3,
   "id": "f8510c1f",
   "metadata": {},
   "outputs": [],
   "source": [
    "try:\n",
    "    load_dotenv()\n",
    "    api_key = os.environ[\"API_KEY\"]\n",
    "    api_key_secret = os.environ[\"SECRET_API_KEY\"]\n",
    "    api_key_bearer = os.environ[\"BEARER_TOKEN\"]\n",
    "except KeyError:\n",
    "    raise Exception(\"Environ vars not set. Add your keys to \\\".env\\\".\")\n"
   ]
  },
  {
   "cell_type": "code",
   "execution_count": 4,
   "id": "805819bf",
   "metadata": {},
   "outputs": [],
   "source": [
    "callback_uri = \"oob\""
   ]
  },
  {
   "cell_type": "markdown",
   "id": "d7eb3a8d",
   "metadata": {},
   "source": [
    "## Get pin  "
   ]
  },
  {
   "cell_type": "code",
   "execution_count": 5,
   "id": "f497b2f1",
   "metadata": {},
   "outputs": [
    {
     "data": {
      "text/plain": "True"
     },
     "execution_count": 5,
     "metadata": {},
     "output_type": "execute_result"
    }
   ],
   "source": [
    "auth = tweepy.OAuthHandler(api_key,api_key_secret,callback_uri)\n",
    "redirect_url = auth.get_authorization_url()\n",
    "webbrowser.open(redirect_url)"
   ]
  },
  {
   "cell_type": "markdown",
   "id": "729f9c76",
   "metadata": {},
   "source": [
    "## Save pin"
   ]
  },
  {
   "cell_type": "code",
   "execution_count": 6,
   "id": "2fddbc49",
   "metadata": {},
   "outputs": [],
   "source": [
    "user_pin_input = input(\"What's the pin value?\")"
   ]
  },
  {
   "cell_type": "code",
   "execution_count": null,
   "id": "46ed3aa0",
   "metadata": {},
   "outputs": [],
   "source": [
    "user_pin_input"
   ]
  },
  {
   "cell_type": "markdown",
   "id": "7e7596ae",
   "metadata": {},
   "source": [
    "## Set access token"
   ]
  },
  {
   "cell_type": "code",
   "execution_count": 7,
   "id": "3e51c745",
   "metadata": {},
   "outputs": [
    {
     "data": {
      "text/plain": "('1438827862681919496-Ak9zdadZFxWYrFFQ8fUEVTmhEGxPdW',\n 'ZsPlm5oIxKE5uS1zeSbCEOPrkJT0qH7tgku4f8VrB1iKF')"
     },
     "execution_count": 7,
     "metadata": {},
     "output_type": "execute_result"
    }
   ],
   "source": [
    "auth.get_access_token(user_pin_input)"
   ]
  },
  {
   "cell_type": "code",
   "execution_count": 8,
   "id": "49473cfd",
   "metadata": {},
   "outputs": [
    {
     "data": {
      "text/plain": "'1438827862681919496-Ak9zdadZFxWYrFFQ8fUEVTmhEGxPdW'"
     },
     "execution_count": 8,
     "metadata": {},
     "output_type": "execute_result"
    }
   ],
   "source": [
    "auth.access_token"
   ]
  },
  {
   "cell_type": "code",
   "execution_count": null,
   "id": "644491ac",
   "metadata": {},
   "outputs": [],
   "source": [
    "auth.access_token_secret"
   ]
  },
  {
   "cell_type": "markdown",
   "id": "3985ef66",
   "metadata": {},
   "source": [
    "## Access API"
   ]
  },
  {
   "cell_type": "code",
   "id": "52f32d5c",
   "metadata": {
    "pycharm": {
     "name": "#%%\n"
    }
   },
   "source": [
    "api = tweepy.API(auth)"
   ],
   "execution_count": 10,
   "outputs": []
  },
  {
   "cell_type": "code",
   "execution_count": 11,
   "id": "5093a5cd",
   "metadata": {},
   "outputs": [
    {
     "ename": "AttributeError",
     "evalue": "'API' object has no attribute 'me'",
     "output_type": "error",
     "traceback": [
      "\u001B[1;31m---------------------------------------------------------------------------\u001B[0m",
      "\u001B[1;31mAttributeError\u001B[0m                            Traceback (most recent call last)",
      "\u001B[1;32m~\\AppData\\Local\\Temp/ipykernel_25208/497056502.py\u001B[0m in \u001B[0;36m<module>\u001B[1;34m\u001B[0m\n\u001B[1;32m----> 1\u001B[1;33m \u001B[0mme\u001B[0m \u001B[1;33m=\u001B[0m \u001B[0mapi\u001B[0m\u001B[1;33m.\u001B[0m\u001B[0mme\u001B[0m\u001B[1;33m(\u001B[0m\u001B[1;33m)\u001B[0m\u001B[1;33m\u001B[0m\u001B[1;33m\u001B[0m\u001B[0m\n\u001B[0m\u001B[0;32m      2\u001B[0m \u001B[1;33m\u001B[0m\u001B[0m\n",
      "\u001B[1;31mAttributeError\u001B[0m: 'API' object has no attribute 'me'"
     ]
    }
   ],
   "source": [
    "me = api.me()"
   ]
  },
  {
   "cell_type": "code",
   "execution_count": 12,
   "id": "4e8e673a",
   "metadata": {},
   "outputs": [
    {
     "ename": "NameError",
     "evalue": "name 'me' is not defined",
     "output_type": "error",
     "traceback": [
      "\u001B[1;31m---------------------------------------------------------------------------\u001B[0m",
      "\u001B[1;31mNameError\u001B[0m                                 Traceback (most recent call last)",
      "\u001B[1;32m~\\AppData\\Local\\Temp/ipykernel_25208/2083838731.py\u001B[0m in \u001B[0;36m<module>\u001B[1;34m\u001B[0m\n\u001B[1;32m----> 1\u001B[1;33m \u001B[0mme\u001B[0m\u001B[1;33m.\u001B[0m\u001B[0mscreen_name\u001B[0m\u001B[1;33m\u001B[0m\u001B[1;33m\u001B[0m\u001B[0m\n\u001B[0m\u001B[0;32m      2\u001B[0m \u001B[1;33m\u001B[0m\u001B[0m\n",
      "\u001B[1;31mNameError\u001B[0m: name 'me' is not defined"
     ]
    }
   ],
   "source": [
    "me.screen_name"
   ]
  },
  {
   "cell_type": "code",
   "execution_count": null,
   "id": "733636c6",
   "metadata": {},
   "outputs": [],
   "source": []
  }
 ],
 "metadata": {
  "kernelspec": {
   "display_name": "Python 3 (ipykernel)",
   "language": "python",
   "name": "python3"
  },
  "language_info": {
   "codemirror_mode": {
    "name": "ipython",
    "version": 3
   },
   "file_extension": ".py",
   "mimetype": "text/x-python",
   "name": "python",
   "nbconvert_exporter": "python",
   "pygments_lexer": "ipython3",
   "version": "3.8.11"
  }
 },
 "nbformat": 4,
 "nbformat_minor": 5
}